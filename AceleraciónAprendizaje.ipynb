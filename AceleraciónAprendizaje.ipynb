{
  "nbformat": 4,
  "nbformat_minor": 0,
  "metadata": {
    "colab": {
      "provenance": [],
      "gpuType": "V28",
      "authorship_tag": "ABX9TyPwJut+OhhohYDB076DiIz7",
      "include_colab_link": true
    },
    "kernelspec": {
      "name": "python3",
      "display_name": "Python 3"
    },
    "language_info": {
      "name": "python"
    },
    "accelerator": "TPU"
  },
  "cells": [
    {
      "cell_type": "markdown",
      "metadata": {
        "id": "view-in-github",
        "colab_type": "text"
      },
      "source": [
        "<a href=\"https://colab.research.google.com/github/diablaxus/Redes-neuronales/blob/main/Aceleraci%C3%B3nAprendizaje.ipynb\" target=\"_parent\"><img src=\"https://colab.research.google.com/assets/colab-badge.svg\" alt=\"Open In Colab\"/></a>"
      ]
    },
    {
      "cell_type": "code",
      "execution_count": 2,
      "metadata": {
        "colab": {
          "base_uri": "https://localhost:8080/"
        },
        "id": "_u-5yiGjm3EK",
        "outputId": "f6d6a378-ed10-4bae-a400-c9659393cf25"
      },
      "outputs": [
        {
          "output_type": "stream",
          "name": "stdout",
          "text": [
            "Epoch [1/10],Loss:2.3076\n",
            "Epoch [2/10],Loss:2.3075\n",
            "Epoch [3/10],Loss:2.3074\n",
            "Epoch [4/10],Loss:2.3071\n",
            "Epoch [5/10],Loss:2.3069\n",
            "Epoch [6/10],Loss:2.3065\n",
            "Epoch [7/10],Loss:2.3061\n",
            "Epoch [8/10],Loss:2.3057\n",
            "Epoch [9/10],Loss:2.3052\n",
            "Epoch [10/10],Loss:2.3047\n"
          ]
        }
      ],
      "source": [
        "import torch\n",
        "import torch.nn as nn\n",
        "import torch.optim as optim\n",
        "\n",
        "#Definir el modelo.\n",
        "class SimpleNN(nn.Module):\n",
        "  def __init__(self):\n",
        "    super(SimpleNN,self).__init__()\n",
        "    self.fc = nn.Linear(784,10)\n",
        "\n",
        "  def forward(self, x):\n",
        "    return torch.softmax(self.fc(x),dim=1)\n",
        "\n",
        "#Inicializar el modelo,criterio y optimizador.\n",
        "model = SimpleNN()\n",
        "criterion = nn.CrossEntropyLoss()\n",
        "optimizer = optim.SGD(model.parameters(),lr=0.01, momentum=0.9)\n",
        "\n",
        "#Crear datos de entrenamiento aleatorios.\n",
        "X_train = torch.randn(1000, 784)\n",
        "y_train = torch.randint(0,10,(1000,))\n",
        "\n",
        "#Entrenamiento del modelo.\n",
        "for epoch in range(10):\n",
        "  optimizer.zero_grad()\n",
        "  outputs = model(X_train)\n",
        "  loss = criterion(outputs,y_train)\n",
        "  loss.backward()\n",
        "  optimizer.step()\n",
        "\n",
        "  print(f'Epoch [{epoch+1}/10],Loss:{loss.item():.4f}')"
      ]
    }
  ]
}