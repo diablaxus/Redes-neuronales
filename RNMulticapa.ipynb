{
  "nbformat": 4,
  "nbformat_minor": 0,
  "metadata": {
    "colab": {
      "provenance": [],
      "gpuType": "V28",
      "authorship_tag": "ABX9TyNcwAanB/nJrv2c6DjmEOGc",
      "include_colab_link": true
    },
    "kernelspec": {
      "name": "python3",
      "display_name": "Python 3"
    },
    "language_info": {
      "name": "python"
    },
    "accelerator": "TPU"
  },
  "cells": [
    {
      "cell_type": "markdown",
      "metadata": {
        "id": "view-in-github",
        "colab_type": "text"
      },
      "source": [
        "<a href=\"https://colab.research.google.com/github/diablaxus/Redes-neuronales/blob/main/RNMulticapa.ipynb\" target=\"_parent\"><img src=\"https://colab.research.google.com/assets/colab-badge.svg\" alt=\"Open In Colab\"/></a>"
      ]
    },
    {
      "cell_type": "code",
      "execution_count": 1,
      "metadata": {
        "id": "pPRxrYYyhP3m"
      },
      "outputs": [],
      "source": [
        "# 1. Importar las bibliotecas necesarias\n",
        "import tensorflow as tf\n",
        "from tensorflow.keras import datasets, layers, models\n",
        "import matplotlib.pyplot as plt\n"
      ]
    },
    {
      "cell_type": "code",
      "source": [
        "# 2. Cargar y preprocesar el dataset CIFAR-10\n",
        "(x_train, y_train), (x_test, y_test) = datasets.cifar10.load_data()\n",
        "\n",
        "# Normalizar las imágenes a valores entre 0 y 1\n",
        "x_train, x_test = x_train / 255.0, x_test / 255.0\n"
      ],
      "metadata": {
        "colab": {
          "base_uri": "https://localhost:8080/"
        },
        "id": "1F2ctD42i33y",
        "outputId": "10b13295-5199-4735-c8a3-31f6240e814a"
      },
      "execution_count": 2,
      "outputs": [
        {
          "output_type": "stream",
          "name": "stdout",
          "text": [
            "Downloading data from https://www.cs.toronto.edu/~kriz/cifar-10-python.tar.gz\n",
            "170498071/170498071 [==============================] - 2s 0us/step\n"
          ]
        }
      ]
    },
    {
      "cell_type": "code",
      "source": [
        "# 3. Definir la arquitectura de la red neuronal convolucional (CNN)\n",
        "model = models.Sequential()\n",
        "\n",
        "# Primera capa convolucional\n",
        "model.add(layers.Conv2D(32, (3, 3), activation='relu', input_shape=(32, 32, 3)))\n",
        "\n",
        "# Segunda capa convolucional\n",
        "model.add(layers.Conv2D(64, (3, 3), activation='relu'))\n",
        "\n",
        "# Capa de pooling\n",
        "model.add(layers.MaxPooling2D((2, 2)))\n",
        "\n",
        "# Capa de aplanamiento\n",
        "model.add(layers.Flatten())\n",
        "\n",
        "# Capa densa completamente conectada con 64 neuronas\n",
        "model.add(layers.Dense(64, activation='relu'))\n",
        "\n",
        "# Capa de salida con 10 neuronas (una para cada clase de CIFAR-10)\n",
        "model.add(layers.Dense(10))\n"
      ],
      "metadata": {
        "id": "lyhItYjRjlYa"
      },
      "execution_count": 3,
      "outputs": []
    },
    {
      "cell_type": "code",
      "source": [
        "# 4. Compilar el modelo\n",
        "model.compile(optimizer='adam',\n",
        "              loss=tf.keras.losses.SparseCategoricalCrossentropy(from_logits=True),\n",
        "              metrics=['accuracy'])\n"
      ],
      "metadata": {
        "id": "TWn0XX2bkm15"
      },
      "execution_count": 4,
      "outputs": []
    },
    {
      "cell_type": "code",
      "source": [
        "# 5. Entrenar el modelo\n",
        "history = model.fit(x_train, y_train, epochs=10,\n",
        "                    validation_data=(x_test, y_test))\n"
      ],
      "metadata": {
        "colab": {
          "base_uri": "https://localhost:8080/"
        },
        "id": "9XhcnXjkkqmx",
        "outputId": "547ecf6f-d93e-4f3c-fbde-9a3012cd2f18"
      },
      "execution_count": 5,
      "outputs": [
        {
          "output_type": "stream",
          "name": "stdout",
          "text": [
            "Epoch 1/10\n",
            "1563/1563 [==============================] - 27s 17ms/step - loss: 1.3832 - accuracy: 0.5041 - val_loss: 1.1518 - val_accuracy: 0.5869\n",
            "Epoch 2/10\n",
            "1563/1563 [==============================] - 23s 15ms/step - loss: 1.0210 - accuracy: 0.6441 - val_loss: 1.0709 - val_accuracy: 0.6221\n",
            "Epoch 3/10\n",
            "1563/1563 [==============================] - 22s 14ms/step - loss: 0.8896 - accuracy: 0.6914 - val_loss: 0.9763 - val_accuracy: 0.6645\n",
            "Epoch 4/10\n",
            "1563/1563 [==============================] - 23s 15ms/step - loss: 0.8024 - accuracy: 0.7202 - val_loss: 0.9655 - val_accuracy: 0.6711\n",
            "Epoch 5/10\n",
            "1563/1563 [==============================] - 22s 14ms/step - loss: 0.7229 - accuracy: 0.7483 - val_loss: 0.9606 - val_accuracy: 0.6774\n",
            "Epoch 6/10\n",
            "1563/1563 [==============================] - 22s 14ms/step - loss: 0.6587 - accuracy: 0.7727 - val_loss: 1.0111 - val_accuracy: 0.6738\n",
            "Epoch 7/10\n",
            "1563/1563 [==============================] - 22s 14ms/step - loss: 0.5952 - accuracy: 0.7900 - val_loss: 1.0269 - val_accuracy: 0.6737\n",
            "Epoch 8/10\n",
            "1563/1563 [==============================] - 22s 14ms/step - loss: 0.5359 - accuracy: 0.8130 - val_loss: 1.1215 - val_accuracy: 0.6471\n",
            "Epoch 9/10\n",
            "1563/1563 [==============================] - 22s 14ms/step - loss: 0.4749 - accuracy: 0.8330 - val_loss: 1.1366 - val_accuracy: 0.6640\n",
            "Epoch 10/10\n",
            "1563/1563 [==============================] - 22s 14ms/step - loss: 0.4182 - accuracy: 0.8541 - val_loss: 1.2323 - val_accuracy: 0.6637\n"
          ]
        }
      ]
    },
    {
      "cell_type": "code",
      "source": [
        "# 6. Evaluar el modelo\n",
        "test_loss, test_acc = model.evaluate(x_test, y_test, verbose=2)\n",
        "\n",
        "print(f'Precisión en el conjunto de prueba: {test_acc}')\n"
      ],
      "metadata": {
        "colab": {
          "base_uri": "https://localhost:8080/"
        },
        "id": "05tFUFirlDvi",
        "outputId": "f930fbb2-a7b8-4c76-b699-83869e99a164"
      },
      "execution_count": 6,
      "outputs": [
        {
          "output_type": "stream",
          "name": "stdout",
          "text": [
            "313/313 - 1s - loss: 1.2323 - accuracy: 0.6637 - 1s/epoch - 5ms/step\n",
            "Precisión en el conjunto de prueba: 0.6636999845504761\n"
          ]
        }
      ]
    },
    {
      "cell_type": "code",
      "source": [
        "# 7. Graficar el historial de precisión y pérdida\n",
        "plt.plot(history.history['accuracy'], label='Precisión entrenamiento')\n",
        "plt.plot(history.history['val_accuracy'], label = 'Precisión validación')\n",
        "plt.xlabel('Épocas')\n",
        "plt.ylabel('Precisión')\n",
        "plt.ylim([0, 1])\n",
        "plt.legend(loc='lower right')\n",
        "plt.show()\n"
      ],
      "metadata": {
        "colab": {
          "base_uri": "https://localhost:8080/",
          "height": 457
        },
        "id": "VStAIIa8lH-J",
        "outputId": "1e98524f-6d8f-4457-c63f-28c8b8bb3685"
      },
      "execution_count": 7,
      "outputs": [
        {
          "output_type": "display_data",
          "data": {
            "text/plain": [
              "<Figure size 640x480 with 1 Axes>"
            ],
            "image/png": "[encoded data removed]"
          },
          "metadata": {}
        }
      ]
    }
  ]
}