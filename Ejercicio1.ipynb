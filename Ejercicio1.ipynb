{
  "nbformat": 4,
  "nbformat_minor": 0,
  "metadata": {
    "colab": {
      "provenance": [],
      "gpuType": "V28",
      "authorship_tag": "ABX9TyP98fW0qSOp39jw1ZIa6a4j",
      "include_colab_link": true
    },
    "kernelspec": {
      "name": "python3",
      "display_name": "Python 3"
    },
    "language_info": {
      "name": "python"
    },
    "accelerator": "TPU"
  },
  "cells": [
    {
      "cell_type": "markdown",
      "metadata": {
        "id": "view-in-github",
        "colab_type": "text"
      },
      "source": [
        "<a href=\"https://colab.research.google.com/github/diablaxus/Redes-neuronales/blob/main/Ejercicio1.ipynb\" target=\"_parent\"><img src=\"https://colab.research.google.com/assets/colab-badge.svg\" alt=\"Open In Colab\"/></a>"
      ]
    },
    {
      "cell_type": "code",
      "execution_count": 3,
      "metadata": {
        "colab": {
          "base_uri": "https://localhost:8080/"
        },
        "id": "YsPzCCki1kd7",
        "outputId": "633b99ae-cf42-4764-e987-19943b764794"
      },
      "outputs": [
        {
          "output_type": "stream",
          "name": "stdout",
          "text": [
            "Epoch 1/10\n",
            "1875/1875 [==============================] - 4s 2ms/step - loss: 0.4670 - accuracy: 0.8790 - val_loss: 0.3078 - val_accuracy: 0.9160\n",
            "Epoch 2/10\n",
            "1875/1875 [==============================] - 3s 2ms/step - loss: 0.3036 - accuracy: 0.9148 - val_loss: 0.2827 - val_accuracy: 0.9212\n",
            "Epoch 3/10\n",
            "1875/1875 [==============================] - 3s 2ms/step - loss: 0.2834 - accuracy: 0.9209 - val_loss: 0.2738 - val_accuracy: 0.9230\n",
            "Epoch 4/10\n",
            "1875/1875 [==============================] - 3s 2ms/step - loss: 0.2733 - accuracy: 0.9233 - val_loss: 0.2722 - val_accuracy: 0.9230\n",
            "Epoch 5/10\n",
            "1875/1875 [==============================] - 3s 2ms/step - loss: 0.2663 - accuracy: 0.9252 - val_loss: 0.2668 - val_accuracy: 0.9257\n",
            "Epoch 6/10\n",
            "1875/1875 [==============================] - 3s 2ms/step - loss: 0.2617 - accuracy: 0.9276 - val_loss: 0.2654 - val_accuracy: 0.9268\n",
            "Epoch 7/10\n",
            "1875/1875 [==============================] - 3s 2ms/step - loss: 0.2580 - accuracy: 0.9281 - val_loss: 0.2671 - val_accuracy: 0.9240\n",
            "Epoch 8/10\n",
            "1875/1875 [==============================] - 3s 2ms/step - loss: 0.2553 - accuracy: 0.9289 - val_loss: 0.2661 - val_accuracy: 0.9270\n",
            "Epoch 9/10\n",
            "1875/1875 [==============================] - 3s 2ms/step - loss: 0.2527 - accuracy: 0.9302 - val_loss: 0.2637 - val_accuracy: 0.9276\n",
            "Epoch 10/10\n",
            "1875/1875 [==============================] - 3s 2ms/step - loss: 0.2512 - accuracy: 0.9299 - val_loss: 0.2647 - val_accuracy: 0.9272\n",
            "313/313 - 0s - loss: 0.2647 - accuracy: 0.9272 - 358ms/epoch - 1ms/step\n",
            "\n",
            "Test accuracy: 0.9272000193595886\n"
          ]
        }
      ],
      "source": [
        "import tensorflow as tf\n",
        "\n",
        "#Crear Modelo.\n",
        "model = tf.keras.Sequential([\n",
        "    tf.keras.layers.Dense(10,activation='softmax', input_shape=(784,))\n",
        "    ])\n",
        "\n",
        "\n",
        "# Compilar el modelo.\n",
        "model.compile(optimizer='adam',\n",
        "              loss = 'sparse_categorical_crossentropy',\n",
        "              metrics=['accuracy'])\n",
        "\n",
        "\n",
        "#Cargar y preprocesar el conjunto de datos MNIST.\n",
        "(X_train, y_train), (X_test, y_test) = tf.keras.datasets.mnist.load_data()\n",
        "X_train = X_train.reshape(-1,784) / 255.0\n",
        "X_test = X_test.reshape(-1,784) / 255.0\n",
        "\n",
        "#Entrenar el modelo.\n",
        "model.fit(X_train, y_train,epochs=10, validation_data=(X_test, y_test))\n",
        "\n",
        "#Evaluar el modelo\n",
        "test_loss,test_acc = model.evaluate(X_test, y_test,verbose=2)\n",
        "print('\\nTest accuracy:',test_acc)\n",
        "\n",
        "\n"
      ]
    }
  ]
}