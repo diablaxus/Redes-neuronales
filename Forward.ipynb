{
  "nbformat": 4,
  "nbformat_minor": 0,
  "metadata": {
    "colab": {
      "provenance": [],
      "gpuType": "V28",
      "authorship_tag": "ABX9TyMyzc/8M7NV925P8YxEjIMS",
      "include_colab_link": true
    },
    "kernelspec": {
      "name": "python3",
      "display_name": "Python 3"
    },
    "language_info": {
      "name": "python"
    },
    "accelerator": "TPU"
  },
  "cells": [
    {
      "cell_type": "markdown",
      "metadata": {
        "id": "view-in-github",
        "colab_type": "text"
      },
      "source": [
        "<a href=\"https://colab.research.google.com/github/diablaxus/Redes-neuronales/blob/main/Forward.ipynb\" target=\"_parent\"><img src=\"https://colab.research.google.com/assets/colab-badge.svg\" alt=\"Open In Colab\"/></a>"
      ]
    },
    {
      "cell_type": "code",
      "execution_count": 11,
      "metadata": {
        "colab": {
          "base_uri": "https://localhost:8080/"
        },
        "id": "YsPzCCki1kd7",
        "outputId": "a91d8320-f409-4f38-a176-2b24e0763487"
      },
      "outputs": [
        {
          "output_type": "stream",
          "name": "stdout",
          "text": [
            "Accuracy: 0.9778\n"
          ]
        },
        {
          "output_type": "stream",
          "name": "stderr",
          "text": [
            "/usr/local/lib/python3.10/dist-packages/sklearn/neural_network/_multilayer_perceptron.py:690: ConvergenceWarning: Stochastic Optimizer: Maximum iterations (1000) reached and the optimization hasn't converged yet.\n",
            "  warnings.warn(\n"
          ]
        }
      ],
      "source": [
        "from sklearn import datasets\n",
        "from sklearn.model_selection import train_test_split\n",
        "from sklearn.neural_network import MLPClassifier\n",
        "\n",
        "#Cargar el conjuntdo de datos Iris.\n",
        "iris = datasets.load_iris()\n",
        "X,y = iris.data, iris.target\n",
        "\n",
        "#Dividir los datos en entrenamiento y prueba.\n",
        "X_train, X_test, y_train, y_test = train_test_split(X,y,test_size=0.3, random_state=42)\n",
        "\n",
        "#Crear un clasificador de red neuronal de una sola capa.\n",
        "mlp = MLPClassifier(hidden_layer_sizes=(),activation='logistic', max_iter=1000)\n",
        "\n",
        "#Entrenar el modelo.\n",
        "mlp.fit(X_train,y_train)\n",
        "\n",
        "#Evaluar la precisión del modelo.\n",
        "accuracy = mlp.score(X_test, y_test)\n",
        "print(f'Accuracy: {accuracy:.4f}')\n",
        "\n"
      ]
    }
  ]
}