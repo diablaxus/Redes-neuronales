{
  "nbformat": 4,
  "nbformat_minor": 0,
  "metadata": {
    "colab": {
      "provenance": [],
      "authorship_tag": "ABX9TyPNneURHZcd3NGrhU/S/DuL",
      "include_colab_link": true
    },
    "kernelspec": {
      "name": "python3",
      "display_name": "Python 3"
    },
    "language_info": {
      "name": "python"
    }
  },
  "cells": [
    {
      "cell_type": "markdown",
      "metadata": {
        "id": "view-in-github",
        "colab_type": "text"
      },
      "source": [
        "<a href=\"https://colab.research.google.com/github/diablaxus/Redes-neuronales/blob/main/Activaci%C3%B3nRN_py.ipynb\" target=\"_parent\"><img src=\"https://colab.research.google.com/assets/colab-badge.svg\" alt=\"Open In Colab\"/></a>"
      ]
    },
    {
      "cell_type": "code",
      "execution_count": 1,
      "metadata": {
        "colab": {
          "base_uri": "https://localhost:8080/"
        },
        "id": "KFRKmTim8okQ",
        "outputId": "e1c3f397-682f-4a51-aabb-00585c5976ff"
      },
      "outputs": [
        {
          "output_type": "stream",
          "name": "stdout",
          "text": [
            "Activación de la neurona: 0.32739298293223956\n"
          ]
        }
      ],
      "source": [
        "import numpy as np\n",
        "import matplotlib.pyplot as plt\n",
        "\n",
        "#Simulación de activación neuronal\n",
        "def activacion_neuronal(entradas,pesos,umbral):\n",
        "  suma = np.dot(entradas,pesos) - umbral\n",
        "  return 1/(1+np.exp(-suma))#Función logística\n",
        "\n",
        "entradas = np.array([0.5,-0.2,0.8])\n",
        "pesos = np.array([0.4,0.9,-0.3])\n",
        "umbral = 0.5\n",
        "\n",
        "activacion = activacion_neuronal(entradas,pesos,umbral)\n",
        "print(\"Activación de la neurona:\", activacion)\n",
        ""
      ]
    }
  ]
}