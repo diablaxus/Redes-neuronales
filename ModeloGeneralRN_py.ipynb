{
  "nbformat": 4,
  "nbformat_minor": 0,
  "metadata": {
    "colab": {
      "provenance": [],
      "authorship_tag": "ABX9TyP2uprp91/PJWctu62Wdk5Y",
      "include_colab_link": true
    },
    "kernelspec": {
      "name": "python3",
      "display_name": "Python 3"
    },
    "language_info": {
      "name": "python"
    }
  },
  "cells": [
    {
      "cell_type": "markdown",
      "metadata": {
        "id": "view-in-github",
        "colab_type": "text"
      },
      "source": [
        "<a href=\"https://colab.research.google.com/github/diablaxus/Redes-neuronales/blob/main/ModeloGeneralRN_py.ipynb\" target=\"_parent\"><img src=\"https://colab.research.google.com/assets/colab-badge.svg\" alt=\"Open In Colab\"/></a>"
      ]
    },
    {
      "cell_type": "code",
      "execution_count": null,
      "metadata": {
        "id": "LmhZuX7xz_yU"
      },
      "outputs": [],
      "source": [
        "import numpy as np"
      ]
    },
    {
      "cell_type": "code",
      "source": [
        "#Definir la función de activación sigmoide\n",
        "def sigmoid(x):\n",
        "  return 1 / (1+np.exp(-x))\n",
        "\n",
        "#Modelo de la neurona artificial\n",
        "def neurona_artificial(entradas, pesos, bias):\n",
        "\n",
        "  #Calcular la suma ponderada\n",
        "  z=np.dot(entradas,pesos)+bias\n",
        "\n",
        "  #Aplicar la función de activación\n",
        "  salida=sigmoid(z)\n",
        "  return salida"
      ],
      "metadata": {
        "id": "O46sJIqR0pL7"
      },
      "execution_count": null,
      "outputs": []
    },
    {
      "cell_type": "code",
      "source": [
        "#Entradas (x1,x2,x3)\n",
        "entradas = np.array([0.5,-0.2,0.8])\n",
        "\n",
        "#Pesos correspondientes a cada entrada (w1,w2,w3)\n",
        "pesos = np.array([0.4,0.9,-0.3])\n",
        "\n",
        "#Bias (umbral)\n",
        "bias=0.5"
      ],
      "metadata": {
        "id": "YWbve0rP3DSJ"
      },
      "execution_count": 4,
      "outputs": []
    },
    {
      "cell_type": "code",
      "source": [
        "# Calcular la salida de la neurona\n",
        "salida = neurona_artificial(entradas,pesos,bias)\n",
        "\n",
        "#Mostrar el resultado\n",
        "print(f\"La salida de la neurona es: {salida}\")"
      ],
      "metadata": {
        "colab": {
          "base_uri": "https://localhost:8080/"
        },
        "id": "LKlieQro2IOZ",
        "outputId": "d2b5cca8-2b92-40d2-cd19-7d9204d3138f"
      },
      "execution_count": 8,
      "outputs": [
        {
          "output_type": "stream",
          "name": "stdout",
          "text": [
            "La salida de la neurona es: 0.569546223939229\n"
          ]
        }
      ]
    }
  ]
}